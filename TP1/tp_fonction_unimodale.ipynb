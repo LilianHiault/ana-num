{
 "cells": [
  {
   "cell_type": "markdown",
   "id": "bigger-pavilion",
   "metadata": {},
   "source": [
    "# Analyse numérique\n",
    "# TP fonction unimodale\n",
    "\n",
    "*Lilian HIAULT*"
   ]
  },
  {
   "cell_type": "markdown",
   "id": "falling-kenya",
   "metadata": {},
   "source": [
    "## 1. Méthode de recherche dichotomique\n",
    "### Q1\n",
    "On vérifie que x* reste présent dans l'intervalle dans les 3 cas\n",
    "1. \n",
    "2.\n",
    "3."
   ]
  },
  {
   "cell_type": "markdown",
   "id": "seeing-stadium",
   "metadata": {},
   "source": [
    "### Q2"
   ]
  },
  {
   "cell_type": "code",
   "execution_count": 10,
   "id": "delayed-passion",
   "metadata": {},
   "outputs": [
    {
     "name": "stdout",
     "output_type": "stream",
     "text": [
      "99.99942779541016\n",
      "49.99971389770508\n",
      "-1000\n",
      "999.9990463256836\n"
     ]
    }
   ],
   "source": [
    "# Imports\n",
    "from math import sqrt\n",
    "\n",
    "# Dichotomie\n",
    "def dicho(f, a=-1000, b=1000, eps=0.001):\n",
    "    C = a + 0.5 * (b - a)\n",
    "    fC = f(C)\n",
    "    while abs(a-b) > eps:\n",
    "        G = a + 0.25 * (b - a)\n",
    "        D = a + 0.75 * (b - a)\n",
    "        \n",
    "        fG = f(G)\n",
    "        fD = f(D)\n",
    "        \n",
    "        if fC > fD:\n",
    "            a = C\n",
    "            C = D\n",
    "            fC = fD\n",
    "        elif fC > fG:\n",
    "            b = C\n",
    "            C = G\n",
    "            fC = fG\n",
    "        else:\n",
    "            a = G\n",
    "            b = D\n",
    "    return a\n",
    "\n",
    "# Test functions\n",
    "def f1(x):\n",
    "    return abs(x - 100)\n",
    "def f2(x):\n",
    "    return sqrt(x - 50) if x >= 50 else sqrt(-(x - 50))\n",
    "def f3(x):\n",
    "    return min(4 * x, x + 5)\n",
    "def f4(x):\n",
    "    return -x**3\n",
    "\n",
    "# Tests\n",
    "print(dicho(f1))\n",
    "print(dicho(f2))\n",
    "print(dicho(f3))\n",
    "print(dicho(f4))"
   ]
  },
  {
   "cell_type": "markdown",
   "id": "stainless-nursery",
   "metadata": {},
   "source": [
    "## 2. Méthode du nombre d'or\n",
    "\n",
    "### Q3\n",
    "### Q4\n",
    "xG = b - (a - b) / alpha\n",
    "xD = a + (a - b) / alpha\n",
    "\n",
    "### Q5\n",
    "Si les points sont équirépartis, la taille de l'intervalle est réduit de 1/4 de sa taille.\n",
    "\n",
    "### Q6\n"
   ]
  }
 ],
 "metadata": {
  "kernelspec": {
   "display_name": "Python 3",
   "language": "python",
   "name": "python3"
  },
  "language_info": {
   "codemirror_mode": {
    "name": "ipython",
    "version": 3
   },
   "file_extension": ".py",
   "mimetype": "text/x-python",
   "name": "python",
   "nbconvert_exporter": "python",
   "pygments_lexer": "ipython3",
   "version": "3.8.5"
  }
 },
 "nbformat": 4,
 "nbformat_minor": 5
}
